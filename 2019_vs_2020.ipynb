{
 "cells": [
  {
   "cell_type": "markdown",
   "metadata": {},
   "source": [
    "# Stack OverFlow developer survey analysis of year 2019 and 2020"
   ]
  },
  {
   "cell_type": "markdown",
   "metadata": {},
   "source": [
    "### Import statement "
   ]
  },
  {
   "cell_type": "code",
   "execution_count": 1,
   "metadata": {},
   "outputs": [
    {
     "data": {
      "text/html": [
       "        <script type=\"text/javascript\">\n",
       "        window.PlotlyConfig = {MathJaxConfig: 'local'};\n",
       "        if (window.MathJax) {MathJax.Hub.Config({SVG: {font: \"STIX-Web\"}});}\n",
       "        if (typeof require !== 'undefined') {\n",
       "        require.undef(\"plotly\");\n",
       "        requirejs.config({\n",
       "            paths: {\n",
       "                'plotly': ['https://cdn.plot.ly/plotly-latest.min']\n",
       "            }\n",
       "        });\n",
       "        require(['plotly'], function(Plotly) {\n",
       "            window._Plotly = Plotly;\n",
       "        });\n",
       "        }\n",
       "        </script>\n",
       "        "
      ]
     },
     "metadata": {},
     "output_type": "display_data"
    }
   ],
   "source": [
    "import pandas as pd\n",
    "import numpy as np\n",
    "import sys\n",
    "import plotly.express as px\n",
    "import plotly.graph_objects as go\n",
    "import plotly.io as pio\n",
    "from plotly.offline import init_notebook_mode, iplot, plot\n",
    "# pio.renderers.default = \"png\"\n",
    "# jupyter setup\n",
    "init_notebook_mode(connected=True)"
   ]
  },
  {
   "cell_type": "markdown",
   "metadata": {},
   "source": [
    "### For the graph to be interative"
   ]
  },
  {
   "cell_type": "code",
   "execution_count": 2,
   "metadata": {},
   "outputs": [],
   "source": [
    "INTERATIVE_MODE = 0\n",
    "if INTERATIVE_MODE:\n",
    "    display_as = ''\n",
    "else:\n",
    "    display_as = 'png'"
   ]
  },
  {
   "cell_type": "markdown",
   "metadata": {},
   "source": [
    "###  importing the CSV files"
   ]
  },
  {
   "cell_type": "code",
   "execution_count": 3,
   "metadata": {},
   "outputs": [],
   "source": [
    "df_2019 = pd.read_csv('dataset/developer_survey_2019/survey_results_public.csv', index_col='Respondent')\n",
    "df_2020 = pd.read_csv('dataset/developer_survey_2020/survey_results_public.csv', index_col='Respondent')\n",
    "lang_list = ['Python', 'JavaScript', 'Java', 'HTML/CSS', 'C++', 'C', 'C#', 'Go','Bash/Shell/PowerShell', 'SQL', 'TypeScript', 'R', 'PHP', 'Ruby', 'Assembly', 'Rust','VBA', 'WebAssembly', 'Other(s):' ,'Swift', 'Kotlin', 'Erlang', 'Elixir', 'Clojure','Objective-C','Scala','F#','Dart', 'Perl', 'Julia','Haskell']\n",
    "entries_in_2019 = len(df_2019)\n",
    "entries_in_2020 = len(df_2020)"
   ]
  },
  {
   "cell_type": "markdown",
   "metadata": {},
   "source": [
    "### Function to calculate the percentage of language, that is know by the users"
   ]
  },
  {
   "cell_type": "code",
   "execution_count": 4,
   "metadata": {},
   "outputs": [],
   "source": [
    "def calculate_percentage_of_languages(df, total_entries, langs):\n",
    "    language_percentages = {}\n",
    "    for language in langs:\n",
    "        filt = df['LanguageWorkedWith'].str.contains(language , na=False)\n",
    "        no_of_devs_who_knows_the_language = len(df.loc[filt, 'LanguageWorkedWith'])\n",
    "        language_percentages[language] = no_of_devs_who_knows_the_language/total_entries*100\n",
    "    return language_percentages"
   ]
  },
  {
   "cell_type": "code",
   "execution_count": 5,
   "metadata": {},
   "outputs": [],
   "source": [
    "selected_languages = [ 'C','Java','JavaScript','Python', 'C#', 'Go', 'R', 'Swift']\n",
    "language_percentage_2019 = calculate_percentage_of_languages(df_2019, entries_in_2019, selected_languages)\n",
    "language_percentage_2020 = calculate_percentage_of_languages(df_2020, entries_in_2020, selected_languages)"
   ]
  },
  {
   "cell_type": "markdown",
   "metadata": {},
   "source": [
    "### Creating a DataFrame for a particular languages"
   ]
  },
  {
   "cell_type": "code",
   "execution_count": 6,
   "metadata": {},
   "outputs": [
    {
     "data": {
      "text/html": [
       "<div>\n",
       "<style scoped>\n",
       "    .dataframe tbody tr th:only-of-type {\n",
       "        vertical-align: middle;\n",
       "    }\n",
       "\n",
       "    .dataframe tbody tr th {\n",
       "        vertical-align: top;\n",
       "    }\n",
       "\n",
       "    .dataframe thead th {\n",
       "        text-align: right;\n",
       "    }\n",
       "</style>\n",
       "<table border=\"1\" class=\"dataframe\">\n",
       "  <thead>\n",
       "    <tr style=\"text-align: right;\">\n",
       "      <th></th>\n",
       "      <th>2019</th>\n",
       "      <th>2020</th>\n",
       "    </tr>\n",
       "  </thead>\n",
       "  <tbody>\n",
       "    <tr>\n",
       "      <th>C</th>\n",
       "      <td>80.991866</td>\n",
       "      <td>72.553947</td>\n",
       "    </tr>\n",
       "    <tr>\n",
       "      <th>Java</th>\n",
       "      <td>78.882351</td>\n",
       "      <td>70.971595</td>\n",
       "    </tr>\n",
       "    <tr>\n",
       "      <th>JavaScript</th>\n",
       "      <td>66.625789</td>\n",
       "      <td>60.225563</td>\n",
       "    </tr>\n",
       "    <tr>\n",
       "      <th>Python</th>\n",
       "      <td>41.001091</td>\n",
       "      <td>39.228371</td>\n",
       "    </tr>\n",
       "    <tr>\n",
       "      <th>C#</th>\n",
       "      <td>30.486145</td>\n",
       "      <td>27.987465</td>\n",
       "    </tr>\n",
       "    <tr>\n",
       "      <th>Go</th>\n",
       "      <td>8.101662</td>\n",
       "      <td>7.815578</td>\n",
       "    </tr>\n",
       "    <tr>\n",
       "      <th>R</th>\n",
       "      <td>15.691415</td>\n",
       "      <td>14.416469</td>\n",
       "    </tr>\n",
       "    <tr>\n",
       "      <th>Swift</th>\n",
       "      <td>6.462428</td>\n",
       "      <td>5.269853</td>\n",
       "    </tr>\n",
       "  </tbody>\n",
       "</table>\n",
       "</div>"
      ],
      "text/plain": [
       "                 2019       2020\n",
       "C           80.991866  72.553947\n",
       "Java        78.882351  70.971595\n",
       "JavaScript  66.625789  60.225563\n",
       "Python      41.001091  39.228371\n",
       "C#          30.486145  27.987465\n",
       "Go           8.101662   7.815578\n",
       "R           15.691415  14.416469\n",
       "Swift        6.462428   5.269853"
      ]
     },
     "execution_count": 6,
     "metadata": {},
     "output_type": "execute_result"
    }
   ],
   "source": [
    "language_df = pd.DataFrame(data=[language_percentage_2019,language_percentage_2020],index=['2019','2020'])\n",
    "t_language_df = language_df.T\n",
    "t_language_df"
   ]
  },
  {
   "cell_type": "code",
   "execution_count": 7,
   "metadata": {},
   "outputs": [
    {
     "data": {
      "image/png": "[encoded data removed]"
     },
     "metadata": {},
     "output_type": "display_data"
    }
   ],
   "source": [
    "x = t_language_df.index\n",
    "\n",
    "trace1 = go.Bar(x=x,\n",
    "                y=t_language_df['2020'],\n",
    "                name='2020',\n",
    "                hovertemplate = '%{x}: %{y:.2f}%<extra></extra><br>'+\n",
    "                '2020',\n",
    "                marker={'color':'rgba(25,181,254,1)', 'line':{'color':'#000','width':1}}\n",
    "               )\n",
    "trace2 = go.Bar(x=x,\n",
    "                y=t_language_df['2019'],\n",
    "                hovertemplate = '%{x}: %{y:.2f}%<extra></extra><br>'+\n",
    "                '2019',\n",
    "                name='2019',\n",
    "                marker={'color':'rgba(241,120,75,1)', 'line':{'color':'#000','width':1}}\n",
    "               )\n",
    "data = [trace1,trace2]\n",
    "layout = {\n",
    "  'xaxis': {'title': 'Programming Langages','tickangle':-45},\n",
    "  'yaxis': {'title': 'percentage'},\n",
    "  'barmode': 'group',\n",
    "  'hoverlabel':{\n",
    "        'bgcolor':'white', \n",
    "        'font_size':16, \n",
    "        'font_family':'Rockwell'\n",
    "    },\n",
    "  'title': 'Trend in Programming Languages in 2019 and 2020'\n",
    "};\n",
    "\n",
    "fig = go.Figure(data, layout)\n",
    "fig.show(display_as)\n"
   ]
  }
 ],
 "metadata": {
  "kernelspec": {
   "display_name": "Python 3",
   "language": "python",
   "name": "python3"
  },
  "language_info": {
   "codemirror_mode": {
    "name": "ipython",
    "version": 3
   },
   "file_extension": ".py",
   "mimetype": "text/x-python",
   "name": "python",
   "nbconvert_exporter": "python",
   "pygments_lexer": "ipython3",
   "version": "3.8.3"
  }
 },
 "nbformat": 4,
 "nbformat_minor": 4
}
